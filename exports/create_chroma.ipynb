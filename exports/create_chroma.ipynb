{
 "cells": [
  {
   "cell_type": "code",
   "execution_count": 1,
   "metadata": {},
   "outputs": [],
   "source": [
    "import os\n",
    "import env\n",
    "from env import PERSIST_DIRECTORY\n",
    "from langchain.vectorstores import Chroma\n",
    "from langchain.docstore.document import Document\n",
    "from langchain.embeddings.openai import OpenAIEmbeddings\n"
   ]
  },
  {
   "cell_type": "code",
   "execution_count": 2,
   "metadata": {},
   "outputs": [],
   "source": [
    "categories = [\n",
    "    {\n",
    "        \"name\": \"Cultura\",\n",
    "        \"description\": \"Cultura, Guitarra, Canto, Cine\",\n",
    "    },\n",
    "    {\n",
    "        \"name\": \"Comida\",\n",
    "        \"description\": \"Helado, Almuerzo, Cena, Sushi, Empanadas, Cafe, Asado\",\n",
    "    },\n",
    "    {\n",
    "        \"name\": \"Deporte\",\n",
    "        \"description\": \"Deporte, Club, Natacion, Padel\",\n",
    "    },\n",
    "    {\n",
    "        \"name\": \"Transporte\",\n",
    "        \"description\": \"Transporte, Nafta, Auto, Bici, Sube, Estacionamiento\",\n",
    "    },\n",
    "    {\n",
    "        \"name\": \"Regalos\",\n",
    "        \"description\": \"Regalos, Cumpleaños, San Valentin, Navidad, Aniversario\",\n",
    "    }\n",
    "]"
   ]
  },
  {
   "cell_type": "code",
   "execution_count": 3,
   "metadata": {},
   "outputs": [],
   "source": [
    "documents = [Document(page_content=category[\"description\"], metadata={\"category\": category[\"name\"]}) for category in categories]"
   ]
  },
  {
   "cell_type": "code",
   "execution_count": 4,
   "metadata": {},
   "outputs": [
    {
     "name": "stdout",
     "output_type": "stream",
     "text": [
      "Chroma ready with 5 documents\n"
     ]
    }
   ],
   "source": [
    "embedding = OpenAIEmbeddings()\n",
    "if os.path.exists(PERSIST_DIRECTORY):\n",
    "    smalldb = Chroma(persist_directory=PERSIST_DIRECTORY, embedding_function=embedding)\n",
    "    print(\"WARNING: Chroma already exists on disk. Delete the directory and try again.\")\n",
    "else:\n",
    "    smalldb = Chroma.from_documents(\n",
    "        documents=documents, embedding=embedding, persist_directory=PERSIST_DIRECTORY\n",
    "    )\n",
    "    size = len(smalldb.get()[\"ids\"])\n",
    "    print(f\"Chroma ready with {size} documents\")"
   ]
  },
  {
   "cell_type": "code",
   "execution_count": null,
   "metadata": {},
   "outputs": [],
   "source": []
  }
 ],
 "metadata": {
  "kernelspec": {
   "display_name": "gasto-menos",
   "language": "python",
   "name": "python3"
  },
  "language_info": {
   "codemirror_mode": {
    "name": "ipython",
    "version": 3
   },
   "file_extension": ".py",
   "mimetype": "text/x-python",
   "name": "python",
   "nbconvert_exporter": "python",
   "pygments_lexer": "ipython3",
   "version": "3.8.10"
  }
 },
 "nbformat": 4,
 "nbformat_minor": 2
}
