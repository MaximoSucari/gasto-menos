{
 "cells": [
  {
   "cell_type": "code",
   "execution_count": 23,
   "metadata": {},
   "outputs": [],
   "source": [
    "import os\n",
    "import env\n",
    "import json\n",
    "import openai\n",
    "from dotenv import load_dotenv\n",
    "from langchain.vectorstores import Chroma\n",
    "from langchain.embeddings.openai import OpenAIEmbeddings\n",
    "from langchain.docstore.document import Document\n",
    "import re\n",
    "\n",
    "_ = load_dotenv(\".env\")\n",
    "openai.api_key = os.environ[\"OPENAI_API_KEY\"]"
   ]
  },
  {
   "cell_type": "code",
   "execution_count": 24,
   "metadata": {},
   "outputs": [],
   "source": [
    "PERSIST_DIRECTORY = \"CategoriesDB\""
   ]
  },
  {
   "cell_type": "code",
   "execution_count": 25,
   "metadata": {},
   "outputs": [],
   "source": [
    "categorias = [\n",
    "    \"Restaurantes y bares\",\n",
    "    \"Compras\",\n",
    "    \"Cultura\",\n",
    "    \"Deporte\",\n",
    "    \"Educación\",\n",
    "    \"Salud\",\n",
    "    \"Servicios\",\n",
    "    \"Transporte\",\n",
    "    \"Turismo\",\n",
    "]\n",
    "documents = [Document(page_content=categoria, metadata={}) for categoria in categorias]\n",
    "\n",
    "embedding = OpenAIEmbeddings()\n",
    "smalldb = Chroma.from_documents(\n",
    "    documents=documents, embedding=embedding, persist_directory=PERSIST_DIRECTORY\n",
    ")"
   ]
  },
  {
   "cell_type": "code",
   "execution_count": 33,
   "metadata": {},
   "outputs": [],
   "source": [
    "def get_category(text):\n",
    "    results = smalldb.similarity_search(text, k=3)\n",
    "    return results[0].page_content\n",
    "\n",
    "\n",
    "def get_amount(text):\n",
    "    pattern_k = r\"(\\d+\\.?\\d*)\\s*k\"\n",
    "    pattern_usd = r\"(\\d+\\.?\\d*)\\s*usd\"\n",
    "\n",
    "    match_k = re.search(pattern_k, text, re.IGNORECASE)\n",
    "    match_usd = re.search(pattern_usd, text, re.IGNORECASE)\n",
    "\n",
    "    if match_k:\n",
    "        amount = float(match_k.group(1)) * 1000 if match_k.group(1) else 0.0\n",
    "        currency = \"pesos\"\n",
    "    elif match_usd:\n",
    "        amount = float(match_usd.group(1)) if match_usd.group(1) else 0.0\n",
    "        currency = \"usd\"\n",
    "    else:\n",
    "        return (0.0, \"pesos\")\n",
    "\n",
    "    return (amount, currency)\n",
    "\n",
    "\n",
    "def process_text(text):\n",
    "    category = get_category(text)\n",
    "    amount, currency = get_amount(text)\n",
    "    return {\"amount\": amount, \"currency\": currency, \"category\": category}"
   ]
  },
  {
   "cell_type": "code",
   "execution_count": 34,
   "metadata": {},
   "outputs": [
    {
     "data": {
      "text/plain": [
       "{'amount': 6000.0, 'currency': 'pesos', 'category': 'Deporte'}"
      ]
     },
     "execution_count": 34,
     "metadata": {},
     "output_type": "execute_result"
    }
   ],
   "source": [
    "text = \"6k futbol\"\n",
    "process_text(text)"
   ]
  },
  {
   "cell_type": "code",
   "execution_count": null,
   "metadata": {},
   "outputs": [],
   "source": []
  }
 ],
 "metadata": {
  "kernelspec": {
   "display_name": "gasto-menos",
   "language": "python",
   "name": "python3"
  },
  "language_info": {
   "codemirror_mode": {
    "name": "ipython",
    "version": 3
   },
   "file_extension": ".py",
   "mimetype": "text/x-python",
   "name": "python",
   "nbconvert_exporter": "python",
   "pygments_lexer": "ipython3",
   "version": "3.8.10"
  }
 },
 "nbformat": 4,
 "nbformat_minor": 2
}
